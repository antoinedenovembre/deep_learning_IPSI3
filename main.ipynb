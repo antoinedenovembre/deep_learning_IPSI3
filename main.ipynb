{
 "cells": [
  {
   "cell_type": "markdown",
   "metadata": {},
   "source": [
    "# Deep Learning project - IPSI3"
   ]
  },
  {
   "cell_type": "markdown",
   "metadata": {},
   "source": [
    "## Data import and augmentation"
   ]
  },
  {
   "cell_type": "code",
   "execution_count": null,
   "metadata": {},
   "outputs": [],
   "source": [
    "from keras.preprocessing.image import ImageDataGenerator\n",
    "BS=16\n",
    "datagenerator = ImageDataGenerator(rescale=1./255)\n",
    "\n",
    "train_generator = datagenerator.flow_from_directory('./Flowers/Train',\n",
    "                                          target_size=(128, 128),\n",
    "                                          class_mode='categorical',\n",
    "                                          batch_size=BS,\n",
    "                                          shuffle='true',\n",
    "                                          color_mode='rgb')\n",
    "\n",
    "test_generator = datagenerator.flow_from_directory('./Flowers/Test',\n",
    "                                          target_size=(128, 128),\n",
    "                                          class_mode='categorical',\n",
    "                                          color_mode='rgb'\n",
    "                                          )"
   ]
  },
  {
   "cell_type": "markdown",
   "metadata": {},
   "source": [
    "## Model creation and training"
   ]
  },
  {
   "cell_type": "code",
   "execution_count": null,
   "metadata": {},
   "outputs": [],
   "source": [
    "from tensorflow.keras.models import Sequential\n",
    "from tensorflow.keras.layers import Dense, Conv2D, Flatten\n",
    "from tensorflow.keras.optimizers import SGD\n",
    "\n",
    "model = Sequential()\n",
    "model.add(Conv2D(4,(3,3),activation='relu'))\n",
    "model.add(Flatten())\n",
    "model.add(Dense(len(train_generator.class_indices), activation=\"softmax\"))\n",
    "opt = SGD(learning_rate=1)\n",
    "EPOCHS=10\n",
    "model.compile(loss=\"categorical_crossentropy\", optimizer=opt, metrics=[\"accuracy\"])\n",
    "H = model.fit(train_generator, validation_data = test_generator, epochs=EPOCHS)\n"
   ]
  }
 ],
 "metadata": {
  "kernelspec": {
   "display_name": "Python 3",
   "language": "python",
   "name": "python3"
  },
  "language_info": {
   "name": "python",
   "version": "3.11.5"
  }
 },
 "nbformat": 4,
 "nbformat_minor": 2
}
